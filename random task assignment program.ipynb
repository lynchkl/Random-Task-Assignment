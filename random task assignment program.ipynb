{
 "cells": [
  {
   "cell_type": "markdown",
   "metadata": {},
   "source": [
    "Random task assignment program\n",
    "<br>\n",
    "This program randomly assigns team members to 3 different tasks following these steps:\n",
    "<br>\n",
    "1. Read in a team roster, which inlcudes information on team members who have recently completed these tasks.\n",
    "<br>\n",
    "2. Create a \"population\" dataframe by removing team members who have recently done these tasks.\n",
    "<br>\n",
    "3. Select two people for the first task. Remove them from the population and then select two people for the second task - etc. "
   ]
  },
  {
   "cell_type": "code",
   "execution_count": 1,
   "metadata": {
    "collapsed": true
   },
   "outputs": [],
   "source": [
    "import pandas as pd\n",
    "import random\n",
    "import numpy as np\n",
    "import string"
   ]
  },
  {
   "cell_type": "code",
   "execution_count": 2,
   "metadata": {},
   "outputs": [
    {
     "data": {
      "text/html": [
       "<div>\n",
       "<style scoped>\n",
       "    .dataframe tbody tr th:only-of-type {\n",
       "        vertical-align: middle;\n",
       "    }\n",
       "\n",
       "    .dataframe tbody tr th {\n",
       "        vertical-align: top;\n",
       "    }\n",
       "\n",
       "    .dataframe thead th {\n",
       "        text-align: right;\n",
       "    }\n",
       "</style>\n",
       "<table border=\"1\" class=\"dataframe\">\n",
       "  <thead>\n",
       "    <tr style=\"text-align: right;\">\n",
       "      <th></th>\n",
       "      <th>Resource</th>\n",
       "      <th>L&amp;L</th>\n",
       "      <th>Culture</th>\n",
       "      <th>Office Administration</th>\n",
       "    </tr>\n",
       "  </thead>\n",
       "  <tbody>\n",
       "    <tr>\n",
       "      <th>0</th>\n",
       "      <td>A</td>\n",
       "      <td>Recent Experience</td>\n",
       "      <td>NaN</td>\n",
       "      <td>NaN</td>\n",
       "    </tr>\n",
       "    <tr>\n",
       "      <th>1</th>\n",
       "      <td>B</td>\n",
       "      <td>NaN</td>\n",
       "      <td>NaN</td>\n",
       "      <td>NaN</td>\n",
       "    </tr>\n",
       "    <tr>\n",
       "      <th>2</th>\n",
       "      <td>C</td>\n",
       "      <td>NaN</td>\n",
       "      <td>NaN</td>\n",
       "      <td>Recent Experience</td>\n",
       "    </tr>\n",
       "    <tr>\n",
       "      <th>3</th>\n",
       "      <td>D</td>\n",
       "      <td>NaN</td>\n",
       "      <td>NaN</td>\n",
       "      <td>NaN</td>\n",
       "    </tr>\n",
       "    <tr>\n",
       "      <th>4</th>\n",
       "      <td>E</td>\n",
       "      <td>NaN</td>\n",
       "      <td>NaN</td>\n",
       "      <td>NaN</td>\n",
       "    </tr>\n",
       "    <tr>\n",
       "      <th>5</th>\n",
       "      <td>F</td>\n",
       "      <td>NaN</td>\n",
       "      <td>Recent Experience</td>\n",
       "      <td>NaN</td>\n",
       "    </tr>\n",
       "    <tr>\n",
       "      <th>6</th>\n",
       "      <td>G</td>\n",
       "      <td>NaN</td>\n",
       "      <td>NaN</td>\n",
       "      <td>NaN</td>\n",
       "    </tr>\n",
       "    <tr>\n",
       "      <th>7</th>\n",
       "      <td>H</td>\n",
       "      <td>NaN</td>\n",
       "      <td>Recent Experience</td>\n",
       "      <td>NaN</td>\n",
       "    </tr>\n",
       "    <tr>\n",
       "      <th>8</th>\n",
       "      <td>I</td>\n",
       "      <td>NaN</td>\n",
       "      <td>NaN</td>\n",
       "      <td>NaN</td>\n",
       "    </tr>\n",
       "    <tr>\n",
       "      <th>9</th>\n",
       "      <td>J</td>\n",
       "      <td>NaN</td>\n",
       "      <td>Recent Experience</td>\n",
       "      <td>NaN</td>\n",
       "    </tr>\n",
       "    <tr>\n",
       "      <th>10</th>\n",
       "      <td>K</td>\n",
       "      <td>NaN</td>\n",
       "      <td>NaN</td>\n",
       "      <td>NaN</td>\n",
       "    </tr>\n",
       "    <tr>\n",
       "      <th>11</th>\n",
       "      <td>L</td>\n",
       "      <td>NaN</td>\n",
       "      <td>NaN</td>\n",
       "      <td>NaN</td>\n",
       "    </tr>\n",
       "    <tr>\n",
       "      <th>12</th>\n",
       "      <td>M</td>\n",
       "      <td>NaN</td>\n",
       "      <td>NaN</td>\n",
       "      <td>NaN</td>\n",
       "    </tr>\n",
       "    <tr>\n",
       "      <th>13</th>\n",
       "      <td>N</td>\n",
       "      <td>NaN</td>\n",
       "      <td>NaN</td>\n",
       "      <td>NaN</td>\n",
       "    </tr>\n",
       "    <tr>\n",
       "      <th>14</th>\n",
       "      <td>O</td>\n",
       "      <td>NaN</td>\n",
       "      <td>NaN</td>\n",
       "      <td>NaN</td>\n",
       "    </tr>\n",
       "    <tr>\n",
       "      <th>15</th>\n",
       "      <td>P</td>\n",
       "      <td>NaN</td>\n",
       "      <td>NaN</td>\n",
       "      <td>NaN</td>\n",
       "    </tr>\n",
       "    <tr>\n",
       "      <th>16</th>\n",
       "      <td>Q</td>\n",
       "      <td>Recent Experience</td>\n",
       "      <td>NaN</td>\n",
       "      <td>NaN</td>\n",
       "    </tr>\n",
       "    <tr>\n",
       "      <th>17</th>\n",
       "      <td>R</td>\n",
       "      <td>Recent Experience</td>\n",
       "      <td>NaN</td>\n",
       "      <td>NaN</td>\n",
       "    </tr>\n",
       "    <tr>\n",
       "      <th>18</th>\n",
       "      <td>S</td>\n",
       "      <td>NaN</td>\n",
       "      <td>NaN</td>\n",
       "      <td>NaN</td>\n",
       "    </tr>\n",
       "  </tbody>\n",
       "</table>\n",
       "</div>"
      ],
      "text/plain": [
       "   Resource                L&L            Culture Office Administration\n",
       "0         A  Recent Experience                NaN                   NaN\n",
       "1         B                NaN                NaN                   NaN\n",
       "2         C                NaN                NaN     Recent Experience\n",
       "3         D                NaN                NaN                   NaN\n",
       "4         E                NaN                NaN                   NaN\n",
       "5         F                NaN  Recent Experience                   NaN\n",
       "6         G                NaN                NaN                   NaN\n",
       "7         H                NaN  Recent Experience                   NaN\n",
       "8         I                NaN                NaN                   NaN\n",
       "9         J                NaN  Recent Experience                   NaN\n",
       "10        K                NaN                NaN                   NaN\n",
       "11        L                NaN                NaN                   NaN\n",
       "12        M                NaN                NaN                   NaN\n",
       "13        N                NaN                NaN                   NaN\n",
       "14        O                NaN                NaN                   NaN\n",
       "15        P                NaN                NaN                   NaN\n",
       "16        Q  Recent Experience                NaN                   NaN\n",
       "17        R  Recent Experience                NaN                   NaN\n",
       "18        S                NaN                NaN                   NaN"
      ]
     },
     "execution_count": 2,
     "metadata": {},
     "output_type": "execute_result"
    }
   ],
   "source": [
    "#We'll read in a csv with actual team data for the formal run of this program, but for GitHub example data \n",
    "#is generated here. Names represented with letters.\n",
    "\n",
    "#team_roster = pd.read_csv(r'C:\\Users\\....csv')\n",
    "\n",
    "team_roster = pd.DataFrame({'Resource': list(string.ascii_uppercase[0:19]), \n",
    "     'L&L': ['Recent Experience', np.nan, np.nan, np.nan, np.nan, np.nan, np.nan, np.nan, np.nan, np.nan, np.nan, np.nan, np.nan, np.nan, np.nan, np.nan, 'Recent Experience', 'Recent Experience', np.nan,],\n",
    "    'Culture': [np.nan, np.nan, np.nan, np.nan, np.nan, 'Recent Experience', np.nan, 'Recent Experience', np.nan, 'Recent Experience', np.nan, np.nan, np.nan, np.nan, np.nan, np.nan, np.nan, np.nan, np.nan,],\n",
    "    'Office Administration': [np.nan, np.nan, 'Recent Experience', np.nan, np.nan, np.nan, np.nan, np.nan, np.nan, np.nan, np.nan, np.nan, np.nan, np.nan, np.nan, np.nan, np.nan, np.nan, np.nan,]})\n",
    "\n",
    "#reordering columns - they get wonky for some reason\n",
    "team_roster = team_roster[['Resource','L&L','Culture','Office Administration']]\n",
    "team_roster"
   ]
  },
  {
   "cell_type": "code",
   "execution_count": 3,
   "metadata": {},
   "outputs": [
    {
     "name": "stdout",
     "output_type": "stream",
     "text": [
      "   Resource  L&L Culture Office Administration\n",
      "1         B  NaN     NaN                   NaN\n",
      "3         D  NaN     NaN                   NaN\n",
      "4         E  NaN     NaN                   NaN\n",
      "6         G  NaN     NaN                   NaN\n",
      "8         I  NaN     NaN                   NaN\n",
      "10        K  NaN     NaN                   NaN\n",
      "11        L  NaN     NaN                   NaN\n",
      "12        M  NaN     NaN                   NaN\n",
      "13        N  NaN     NaN                   NaN\n",
      "14        O  NaN     NaN                   NaN\n",
      "15        P  NaN     NaN                   NaN\n",
      "18        S  NaN     NaN                   NaN\n"
     ]
    }
   ],
   "source": [
    "#Filter out team members with the value \"Recent Experience\" to create a population for selection\n",
    "population = team_roster.loc[(team_roster['L&L'].isnull()) & \\\n",
    "                             (team_roster['Culture'].isnull()) & (team_roster['Office Administration'].isnull())]\n",
    "print(population)"
   ]
  },
  {
   "cell_type": "code",
   "execution_count": 4,
   "metadata": {},
   "outputs": [
    {
     "data": {
      "text/plain": [
       "['B', 'D', 'E', 'G', 'I', 'K', 'L', 'M', 'N', 'O', 'P', 'S']"
      ]
     },
     "execution_count": 4,
     "metadata": {},
     "output_type": "execute_result"
    }
   ],
   "source": [
    "#Create a list of team members in the population\n",
    "population_list = list(population['Resource'])\n",
    "population_list"
   ]
  },
  {
   "cell_type": "code",
   "execution_count": 5,
   "metadata": {},
   "outputs": [
    {
     "data": {
      "text/plain": [
       "['K', 'P']"
      ]
     },
     "execution_count": 5,
     "metadata": {},
     "output_type": "execute_result"
    }
   ],
   "source": [
    "#Select our Lunch and Learn leaders\n",
    "LnL = random.sample(population_list, 2)\n",
    "LnL"
   ]
  },
  {
   "cell_type": "code",
   "execution_count": 6,
   "metadata": {},
   "outputs": [
    {
     "data": {
      "text/plain": [
       "['G', 'O']"
      ]
     },
     "execution_count": 6,
     "metadata": {},
     "output_type": "execute_result"
    }
   ],
   "source": [
    "#Create culture list, remove L&L leaders from culture list and select Culture leaders\n",
    "culture_list = population_list.copy()\n",
    "for i in population_list:\n",
    "    if i in LnL:\n",
    "        culture_list.remove(i)\n",
    "\n",
    "Culture = random.sample(culture_list, 2)\n",
    "Culture"
   ]
  },
  {
   "cell_type": "code",
   "execution_count": 7,
   "metadata": {},
   "outputs": [
    {
     "data": {
      "text/plain": [
       "['S', 'M']"
      ]
     },
     "execution_count": 7,
     "metadata": {},
     "output_type": "execute_result"
    }
   ],
   "source": [
    "#Create office admin list, remove Culture leaders from office admin list, and select Office Administration leaders\n",
    "office_admin_list = culture_list.copy()\n",
    "for i in culture_list:\n",
    "    if i in Culture:\n",
    "        office_admin_list.remove(i)\n",
    "        \n",
    "Office_Admin = random.sample(office_admin_list, 2)\n",
    "Office_Admin"
   ]
  }
 ],
 "metadata": {
  "kernelspec": {
   "display_name": "Python 3",
   "language": "python",
   "name": "python3"
  },
  "language_info": {
   "codemirror_mode": {
    "name": "ipython",
    "version": 3
   },
   "file_extension": ".py",
   "mimetype": "text/x-python",
   "name": "python",
   "nbconvert_exporter": "python",
   "pygments_lexer": "ipython3",
   "version": "3.6.3"
  }
 },
 "nbformat": 4,
 "nbformat_minor": 2
}
